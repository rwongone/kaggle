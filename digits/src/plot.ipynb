{
 "cells": [
  {
   "cell_type": "code",
   "execution_count": 1,
   "metadata": {
    "collapsed": false
   },
   "outputs": [
    {
     "name": "stderr",
     "output_type": "stream",
     "text": [
      "Using TensorFlow backend.\n"
     ]
    }
   ],
   "source": [
    "import matplotlib.pyplot as plt\n",
    "%matplotlib inline\n",
    "\n",
    "import model\n",
    "import plot"
   ]
  },
  {
   "cell_type": "code",
   "execution_count": 2,
   "metadata": {
    "collapsed": false
   },
   "outputs": [
    {
     "name": "stdout",
     "output_type": "stream",
     "text": [
      "Found the following files in ../datasets:\n",
      "test.csv\n",
      "train.csv\n",
      "\n",
      "Loading ../datasets/train.csv:\n",
      "Shape: (42000, 785)\n",
      "Loading ../datasets/test.csv:\n",
      "Shape: (28000, 784)\n",
      "Train on 39900 samples, validate on 2100 samples\n",
      "Epoch 1/10\n",
      "39900/39900 [==============================] - 35s - loss: 0.3210 - acc: 0.9039 - val_loss: 0.2063 - val_acc: 0.9386\n",
      "Epoch 2/10\n",
      "39900/39900 [==============================] - 42s - loss: 0.1705 - acc: 0.9510 - val_loss: 0.1718 - val_acc: 0.9510\n",
      "Epoch 3/10\n",
      "39900/39900 [==============================] - 40s - loss: 0.1334 - acc: 0.9611 - val_loss: 0.1466 - val_acc: 0.9671\n",
      "Epoch 4/10\n",
      "39900/39900 [==============================] - 36s - loss: 0.1117 - acc: 0.9681 - val_loss: 0.1530 - val_acc: 0.9619\n",
      "Epoch 5/10\n",
      "39900/39900 [==============================] - 40s - loss: 0.1043 - acc: 0.9707 - val_loss: 0.1233 - val_acc: 0.9676\n",
      "Epoch 6/10\n",
      "39900/39900 [==============================] - 40s - loss: 0.0944 - acc: 0.9729 - val_loss: 0.1312 - val_acc: 0.9705\n",
      "Epoch 7/10\n",
      "39900/39900 [==============================] - 39s - loss: 0.0835 - acc: 0.9770 - val_loss: 0.1429 - val_acc: 0.9657\n",
      "Epoch 8/10\n",
      "39900/39900 [==============================] - 43s - loss: 0.0803 - acc: 0.9781 - val_loss: 0.1264 - val_acc: 0.9714\n",
      "Epoch 9/10\n",
      "39900/39900 [==============================] - 47s - loss: 0.0763 - acc: 0.9789 - val_loss: 0.1300 - val_acc: 0.9710\n",
      "Epoch 10/10\n",
      "39900/39900 [==============================] - 42s - loss: 0.0700 - acc: 0.9804 - val_loss: 0.1406 - val_acc: 0.9686\n"
     ]
    }
   ],
   "source": [
    "history = model.run()"
   ]
  },
  {
   "cell_type": "code",
   "execution_count": 3,
   "metadata": {
    "collapsed": false
   },
   "outputs": [
    {
     "data": {
      "image/png": "[encoded data removed]",
      "text/plain": [
       "<matplotlib.figure.Figure at 0x7f6e44daf610>"
      ]
     },
     "metadata": {},
     "output_type": "display_data"
    },
    {
     "data": {
      "text/plain": [
       "<matplotlib.figure.Figure at 0x7f6e44da4150>"
      ]
     },
     "metadata": {},
     "output_type": "display_data"
    }
   ],
   "source": [
    "plot.plot_loss(history)"
   ]
  },
  {
   "cell_type": "code",
   "execution_count": 4,
   "metadata": {
    "collapsed": false
   },
   "outputs": [
    {
     "data": {
      "image/png": "[encoded data removed]",
      "text/plain": [
       "<matplotlib.figure.Figure at 0x7f6e44cf9150>"
      ]
     },
     "metadata": {},
     "output_type": "display_data"
    },
    {
     "data": {
      "text/plain": [
       "<matplotlib.figure.Figure at 0x7f6e416fabd0>"
      ]
     },
     "metadata": {},
     "output_type": "display_data"
    }
   ],
   "source": [
    "plot.plot_acc(history)"
   ]
  },
  {
   "cell_type": "code",
   "execution_count": null,
   "metadata": {
    "collapsed": true
   },
   "outputs": [],
   "source": []
  },
  {
   "cell_type": "code",
   "execution_count": 17,
   "metadata": {
    "collapsed": true
   },
   "outputs": [],
   "source": [
    "import matplotlib.pyplot as plt\n",
    "%matplotlib inline\n",
    "\n",
    "import model"
   ]
  },
  {
   "cell_type": "code",
   "execution_count": 18,
   "metadata": {
    "collapsed": false
   },
   "outputs": [
    {
     "name": "stdout",
     "output_type": "stream",
     "text": [
      "Found the following files in ../datasets:\n",
      "test.csv\n",
      "train.csv\n",
      "\n",
      "Loading ../datasets/train.csv:\n",
      "Shape: (42000, 785)\n",
      "Loading ../datasets/test.csv:\n",
      "Shape: (28000, 784)\n"
     ]
    }
   ],
   "source": [
    "train, test = model.load_input(\"../datasets\", \"train.csv\", \"test.csv\")\n",
    "train_rows, train_labels = model.split_train(train)\n",
    "norm_train_rows = model.norm(train_rows)\n",
    "train_images = model.reshape(norm_train_rows)"
   ]
  },
  {
   "cell_type": "code",
   "execution_count": 43,
   "metadata": {
    "collapsed": false
   },
   "outputs": [],
   "source": [
    "from sklearn.ensemble import GradientBoostingClassifier\n",
    "from sklearn.metrics import accuracy_score\n",
    "from sklearn.neighbors import KNeighborsClassifier\n",
    "from sklearn.svm import SVC"
   ]
  },
  {
   "cell_type": "code",
   "execution_count": 44,
   "metadata": {
    "collapsed": false
   },
   "outputs": [],
   "source": [
    "X_train = norm_train_rows[:39900]\n",
    "y_train = train.ix[:39899,0]\n",
    "X_test = norm_train_rows[39900:]\n",
    "y_test = train.ix[39900:,0]\n",
    "\n",
    "mdl = KNeighborsClassifier(10)\n",
    "mdl.fit(X_train, y_train)\n",
    "y_pred_rf = mdl.predict(X_test)"
   ]
  },
  {
   "cell_type": "code",
   "execution_count": 45,
   "metadata": {
    "collapsed": false
   },
   "outputs": [
    {
     "name": "stdout",
     "output_type": "stream",
     "text": [
      "KNN accuracy:  0.961428571429\n"
     ]
    }
   ],
   "source": [
    "acc_rf = accuracy_score(y_test, y_pred_rf)\n",
    "print \"KNN accuracy: \", acc_rf"
   ]
  },
  {
   "cell_type": "code",
   "execution_count": 36,
   "metadata": {
    "collapsed": false
   },
   "outputs": [
    {
     "data": {
      "text/plain": [
       "(2100,)"
      ]
     },
     "execution_count": 36,
     "metadata": {},
     "output_type": "execute_result"
    }
   ],
   "source": [
    "y_test = train.ix[39900:,0]\n",
    "\n",
    "y_test.shape"
   ]
  },
  {
   "cell_type": "code",
   "execution_count": null,
   "metadata": {
    "collapsed": true
   },
   "outputs": [],
   "source": []
  }
 ],
 "metadata": {
  "anaconda-cloud": {},
  "kernelspec": {
   "display_name": "Python [conda root]",
   "language": "python",
   "name": "conda-root-py"
  },
  "language_info": {
   "codemirror_mode": {
    "name": "ipython",
    "version": 2
   },
   "file_extension": ".py",
   "mimetype": "text/x-python",
   "name": "python",
   "nbconvert_exporter": "python",
   "pygments_lexer": "ipython2",
   "version": "2.7.12"
  }
 },
 "nbformat": 4,
 "nbformat_minor": 1
}
